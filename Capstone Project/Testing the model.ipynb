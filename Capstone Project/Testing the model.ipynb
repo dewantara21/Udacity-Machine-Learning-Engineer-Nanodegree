{
 "cells": [
  {
   "cell_type": "markdown",
   "metadata": {},
   "source": [
    "## Notebook for testing the model with custom input"
   ]
  },
  {
   "cell_type": "markdown",
   "metadata": {},
   "source": [
    "### Load model and functions"
   ]
  },
  {
   "cell_type": "code",
   "execution_count": 1,
   "metadata": {},
   "outputs": [],
   "source": [
    "import numpy as np\n",
    "import pandas as pd\n",
    "from sklearn.externals import joblib\n",
    "from sklearn.pipeline import Pipeline\n",
    "from sklearn.feature_extraction.text import CountVectorizer, TfidfVectorizer\n",
    "from sklearn.decomposition import TruncatedSVD\n",
    "from tensorflow.keras.models import load_model\n",
    "from tensorflow.keras.wrappers.scikit_learn import KerasClassifier"
   ]
  },
  {
   "cell_type": "markdown",
   "metadata": {},
   "source": [
    "Create additional functions same as used in the model training. This is required due to issues with sklearn.pipeline when pickling custom models (keras model in this case). Problem discussed in: https://www.stefaanlippens.net/python-pickling-and-dealing-with-attributeerror-module-object-has-no-attribute-thing.html"
   ]
  },
  {
   "cell_type": "code",
   "execution_count": 2,
   "metadata": {},
   "outputs": [],
   "source": [
    "# Define model\n",
    "def create_model(l1_dim=10, lsa_dim=10, dropout=0.):\n",
    "    model = Sequential()\n",
    "    model.add(Dense(l1_dim, input_dim=lsa_dim, activation='relu'))\n",
    "    model.add(Dropout(dropout))\n",
    "    model.add(Dense(6, activation='sigmoid'))\n",
    "\n",
    "    # Compile model\n",
    "    model.compile(loss='binary_crossentropy', optimizer='adam', metrics=[AUC(name='auc')])\n",
    "    return model\n",
    "\n",
    "# Build keras estimator\n",
    "keras_estimator = KerasClassifier(build_fn=create_model, verbose=3, epochs=20)"
   ]
  },
  {
   "cell_type": "code",
   "execution_count": 3,
   "metadata": {},
   "outputs": [],
   "source": [
    "pipeline_estimator = Pipeline([('tfidf', TfidfVectorizer(stop_words='english')), \n",
    "                               ('lsa', TruncatedSVD()), \n",
    "                               ('nn', keras_estimator)])"
   ]
  },
  {
   "cell_type": "markdown",
   "metadata": {},
   "source": [
    "Define functions for cleaning comments and providing prediction class"
   ]
  },
  {
   "cell_type": "code",
   "execution_count": 4,
   "metadata": {},
   "outputs": [],
   "source": [
    "def clean_comments(df):\n",
    "\n",
    "    # Lowercase\n",
    "    df_clean = df.str.lower()\n",
    "\n",
    "    # Change empty space characters to spaces\n",
    "    df_clean = df_clean.str.replace(r'\\s', ' ', regex=True)\n",
    "\n",
    "    # Remove non ASCII letters\n",
    "    df_clean = df_clean.str.replace(r\"[^a-z ']+\", '', regex=True)\n",
    "\n",
    "    # Normalize spaces (for readability)\n",
    "    df_clean = pd.Series([\" \".join(x.split()) for x in df_clean])\n",
    "    \n",
    "    return df_clean\n",
    "\n",
    "def prediction_to_class(pred_list, input_comment):\n",
    "    \n",
    "    classes_list = ['toxic', 'severe_toxic', 'obscene', 'threat', 'insult', 'identity_hate']\n",
    "    res_df = pd.DataFrame(pred_list, columns = classes_list)\n",
    "    res_df['comment'] = input_comment\n",
    "    res_df = res_df.round()\n",
    "        \n",
    "    return res_df"
   ]
  },
  {
   "cell_type": "markdown",
   "metadata": {},
   "source": [
    "Load the model"
   ]
  },
  {
   "cell_type": "code",
   "execution_count": 5,
   "metadata": {},
   "outputs": [],
   "source": [
    "# Test loading the pipeline\n",
    "test_model = joblib.load('models/pipeline.pkl')\n",
    "test_model.named_steps['nn'].model = load_model('models/keras_model.h5')"
   ]
  },
  {
   "cell_type": "markdown",
   "metadata": {},
   "source": [
    "### Input comment and predict the toxicity class"
   ]
  },
  {
   "cell_type": "code",
   "execution_count": 6,
   "metadata": {},
   "outputs": [],
   "source": [
    "input_comment = ['You sir are a fine man :)',\n",
    "                 'This is a second example of non-toxic comment']"
   ]
  },
  {
   "cell_type": "code",
   "execution_count": 8,
   "metadata": {},
   "outputs": [
    {
     "name": "stdout",
     "output_type": "stream",
     "text": [
      "Predicted classes:\n"
     ]
    },
    {
     "data": {
      "text/html": [
       "<div>\n",
       "<style scoped>\n",
       "    .dataframe tbody tr th:only-of-type {\n",
       "        vertical-align: middle;\n",
       "    }\n",
       "\n",
       "    .dataframe tbody tr th {\n",
       "        vertical-align: top;\n",
       "    }\n",
       "\n",
       "    .dataframe thead th {\n",
       "        text-align: right;\n",
       "    }\n",
       "</style>\n",
       "<table border=\"1\" class=\"dataframe\">\n",
       "  <thead>\n",
       "    <tr style=\"text-align: right;\">\n",
       "      <th></th>\n",
       "      <th>toxic</th>\n",
       "      <th>severe_toxic</th>\n",
       "      <th>obscene</th>\n",
       "      <th>threat</th>\n",
       "      <th>insult</th>\n",
       "      <th>identity_hate</th>\n",
       "      <th>comment</th>\n",
       "    </tr>\n",
       "  </thead>\n",
       "  <tbody>\n",
       "    <tr>\n",
       "      <th>0</th>\n",
       "      <td>0.0</td>\n",
       "      <td>0.0</td>\n",
       "      <td>0.0</td>\n",
       "      <td>0.0</td>\n",
       "      <td>0.0</td>\n",
       "      <td>0.0</td>\n",
       "      <td>You sir are a fine man :)</td>\n",
       "    </tr>\n",
       "    <tr>\n",
       "      <th>1</th>\n",
       "      <td>0.0</td>\n",
       "      <td>0.0</td>\n",
       "      <td>0.0</td>\n",
       "      <td>0.0</td>\n",
       "      <td>0.0</td>\n",
       "      <td>0.0</td>\n",
       "      <td>This is a second example of non-toxic comment</td>\n",
       "    </tr>\n",
       "  </tbody>\n",
       "</table>\n",
       "</div>"
      ],
      "text/plain": [
       "   toxic  severe_toxic  obscene  threat  insult  identity_hate  \\\n",
       "0    0.0           0.0      0.0     0.0     0.0            0.0   \n",
       "1    0.0           0.0      0.0     0.0     0.0            0.0   \n",
       "\n",
       "                                         comment  \n",
       "0                      You sir are a fine man :)  \n",
       "1  This is a second example of non-toxic comment  "
      ]
     },
     "execution_count": 8,
     "metadata": {},
     "output_type": "execute_result"
    }
   ],
   "source": [
    "# predict\n",
    "input_comment_df = pd.Series(input_comment)\n",
    "clean_comment_df = clean_comments(input_comment_df)\n",
    "pred = test_model.predict_proba(clean_comment_df)\n",
    "pred = prediction_to_class(pred, input_comment)\n",
    "print('Predicted classes:')\n",
    "pred.head()"
   ]
  },
  {
   "cell_type": "code",
   "execution_count": null,
   "metadata": {},
   "outputs": [],
   "source": []
  }
 ],
 "metadata": {
  "kernelspec": {
   "display_name": "Python 3",
   "language": "python",
   "name": "python3"
  },
  "language_info": {
   "codemirror_mode": {
    "name": "ipython",
    "version": 3
   },
   "file_extension": ".py",
   "mimetype": "text/x-python",
   "name": "python",
   "nbconvert_exporter": "python",
   "pygments_lexer": "ipython3",
   "version": "3.7.3"
  }
 },
 "nbformat": 4,
 "nbformat_minor": 2
}
