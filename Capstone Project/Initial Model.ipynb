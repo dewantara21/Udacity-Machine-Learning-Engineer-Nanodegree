{
 "cells": [
  {
   "cell_type": "markdown",
   "metadata": {},
   "source": [
    "### Initial model"
   ]
  },
  {
   "cell_type": "code",
   "execution_count": 2,
   "metadata": {},
   "outputs": [
    {
     "name": "stderr",
     "output_type": "stream",
     "text": [
      "Using TensorFlow backend.\n"
     ]
    }
   ],
   "source": [
    "import numpy as np\n",
    "import pandas as pd\n",
    "from sklearn.feature_extraction.text import CountVectorizer, TfidfVectorizer\n",
    "from sklearn.model_selection import train_test_split, GridSearchCV\n",
    "from sklearn.decomposition import TruncatedSVD\n",
    "from sklearn.preprocessing import Normalizer\n",
    "from sklearn.pipeline import Pipeline\n",
    "import matplotlib.pyplot as plt\n",
    "import string\n",
    "import scipy\n",
    "import keras\n",
    "import sklearn\n",
    "from tensorflow.keras.models import Sequential\n",
    "from tensorflow.keras.layers import Dense, Dropout\n",
    "from tensorflow.keras.wrappers.scikit_learn import KerasClassifier\n",
    "from tensorflow.keras.callbacks import EarlyStopping\n",
    "from tensorflow.keras.metrics import AUC\n"
   ]
  },
  {
   "cell_type": "markdown",
   "metadata": {},
   "source": [
    "### Load data"
   ]
  },
  {
   "cell_type": "code",
   "execution_count": 3,
   "metadata": {},
   "outputs": [],
   "source": [
    "# Input data\n",
    "train_df = pd.read_csv('data/train_clean.csv')\n",
    "X = train_df['comment_clean']\n",
    "y = train_df[['toxic', 'severe_toxic', 'obscene', 'threat', 'insult', 'identity_hate']]"
   ]
  },
  {
   "cell_type": "markdown",
   "metadata": {},
   "source": [
    "To evaluate initial model we will need a validation dataset. We can split given training dataset - to train/validation sets"
   ]
  },
  {
   "cell_type": "code",
   "execution_count": 4,
   "metadata": {},
   "outputs": [],
   "source": [
    "# Split train data to train and validation\n",
    "X_train, X_val, y_train, y_val = train_test_split(X, y, test_size=0.1, random_state=2)"
   ]
  },
  {
   "cell_type": "code",
   "execution_count": 5,
   "metadata": {},
   "outputs": [
    {
     "name": "stdout",
     "output_type": "stream",
     "text": [
      "Train set shape: (143608,)\n",
      "Validation set shape: (15957,)\n"
     ]
    }
   ],
   "source": [
    "print('Train set shape:', X_train.shape)\n",
    "print('Validation set shape:', X_val.shape)"
   ]
  },
  {
   "cell_type": "markdown",
   "metadata": {},
   "source": [
    "### Vectorize text"
   ]
  },
  {
   "cell_type": "markdown",
   "metadata": {},
   "source": [
    "In order to use text data in any of algorithms, first we need to vectorize it. For this I will use quite popular and simple text vectorization algoritm TFIDF. This will result in huge feature vector (I limited it to 10k values) for each comment. This vector will have values for each word (limited to 10k words) and that word's score in each comment. To use these feature vectors further I will use LSA for dimentionality reduction."
   ]
  },
  {
   "cell_type": "code",
   "execution_count": 6,
   "metadata": {},
   "outputs": [],
   "source": [
    "tfidf = TfidfVectorizer(stop_words='english', max_features=10000)\n",
    "X_train_vec = tfidf.fit_transform(X_train)"
   ]
  },
  {
   "cell_type": "code",
   "execution_count": 7,
   "metadata": {},
   "outputs": [
    {
     "name": "stdout",
     "output_type": "stream",
     "text": [
      "Training feature vectors shape: (143608, 10)\n"
     ]
    }
   ],
   "source": [
    "lsa = TruncatedSVD(n_components=10)\n",
    "X_train_lsa = lsa.fit_transform(X_train_vec)\n",
    "print('Training feature vectors shape:', X_train_lsa.shape)"
   ]
  },
  {
   "cell_type": "markdown",
   "metadata": {},
   "source": [
    "### Prepare validation dataset"
   ]
  },
  {
   "cell_type": "markdown",
   "metadata": {},
   "source": [
    "Apply same transformations to validation dataset"
   ]
  },
  {
   "cell_type": "code",
   "execution_count": 8,
   "metadata": {},
   "outputs": [],
   "source": [
    "X_val_vec = tfidf.transform(X_val)\n",
    "X_val_lsa = lsa.transform(X_val_vec)"
   ]
  },
  {
   "cell_type": "markdown",
   "metadata": {},
   "source": [
    "### Build simple NN model"
   ]
  },
  {
   "cell_type": "markdown",
   "metadata": {},
   "source": [
    "For multilabel classification task let's build a simple one hidden layer NN model to get initial results and see where we can improve. If needed, later on we can iterate on the model, edit hyper parameters to find better architecture for this task. "
   ]
  },
  {
   "cell_type": "code",
   "execution_count": 9,
   "metadata": {},
   "outputs": [],
   "source": [
    "model = Sequential()\n",
    "model.add(Dense(10, input_dim=10, activation='relu'))\n",
    "model.add(Dense(6, activation='sigmoid'))\n",
    "\n",
    "# Compile model\n",
    "model.compile(loss='binary_crossentropy', optimizer='adam', metrics=[AUC(name='auc')])"
   ]
  },
  {
   "cell_type": "code",
   "execution_count": 10,
   "metadata": {},
   "outputs": [
    {
     "name": "stdout",
     "output_type": "stream",
     "text": [
      "Model: \"sequential\"\n",
      "_________________________________________________________________\n",
      "Layer (type)                 Output Shape              Param #   \n",
      "=================================================================\n",
      "dense (Dense)                (None, 10)                110       \n",
      "_________________________________________________________________\n",
      "dense_1 (Dense)              (None, 6)                 66        \n",
      "=================================================================\n",
      "Total params: 176\n",
      "Trainable params: 176\n",
      "Non-trainable params: 0\n",
      "_________________________________________________________________\n"
     ]
    }
   ],
   "source": [
    "model.summary()"
   ]
  },
  {
   "cell_type": "markdown",
   "metadata": {},
   "source": [
    "### Training"
   ]
  },
  {
   "cell_type": "code",
   "execution_count": 11,
   "metadata": {},
   "outputs": [
    {
     "name": "stdout",
     "output_type": "stream",
     "text": [
      "Train on 143608 samples, validate on 15957 samples\n",
      "Epoch 1/20\n",
      "143608/143608 [==============================] - 6s 42us/sample - loss: 0.1403 - auc: 0.8350 - val_loss: 0.0963 - val_auc: 0.9196\n",
      "Epoch 2/20\n",
      "143608/143608 [==============================] - 6s 39us/sample - loss: 0.0962 - auc: 0.9154 - val_loss: 0.0912 - val_auc: 0.9231loss: 0.0963 - auc:\n",
      "Epoch 3/20\n",
      "143608/143608 [==============================] - 5s 38us/sample - loss: 0.0934 - auc: 0.9185 - val_loss: 0.0896 - val_auc: 0.9247\n",
      "Epoch 4/20\n",
      "143608/143608 [==============================] - 5s 36us/sample - loss: 0.0920 - auc: 0.9206 - val_loss: 0.0885 - val_auc: 0.9268\n",
      "Epoch 5/20\n",
      "143608/143608 [==============================] - 5s 35us/sample - loss: 0.0908 - auc: 0.9229 - val_loss: 0.0875 - val_auc: 0.9287\n",
      "Epoch 6/20\n",
      "143608/143608 [==============================] - 5s 35us/sample - loss: 0.0899 - auc: 0.9247 - val_loss: 0.0867 - val_auc: 0.9304\n",
      "Epoch 7/20\n",
      "143608/143608 [==============================] - 5s 35us/sample - loss: 0.0892 - auc: 0.9260 - val_loss: 0.0862 - val_auc: 0.9339\n",
      "Epoch 8/20\n",
      "143608/143608 [==============================] - 5s 38us/sample - loss: 0.0887 - auc: 0.9273 - val_loss: 0.0856 - val_auc: 0.9342. -\n",
      "Epoch 9/20\n",
      "143608/143608 [==============================] - 6s 42us/sample - loss: 0.0883 - auc: 0.9281 - val_loss: 0.0852 - val_auc: 0.9348\n",
      "Epoch 10/20\n",
      "143608/143608 [==============================] - 5s 38us/sample - loss: 0.0880 - auc: 0.9286 - val_loss: 0.0850 - val_auc: 0.9356\n",
      "Epoch 11/20\n",
      "143608/143608 [==============================] - 5s 38us/sample - loss: 0.0877 - auc: 0.9294 - val_loss: 0.0848 - val_auc: 0.9362\n",
      "Epoch 12/20\n",
      "143608/143608 [==============================] - 6s 44us/sample - loss: 0.0874 - auc: 0.9299 - val_loss: 0.0846 - val_auc: 0.9367\n",
      "Epoch 13/20\n",
      "143608/143608 [==============================] - 5s 38us/sample - loss: 0.0873 - auc: 0.9302 - val_loss: 0.0845 - val_auc: 0.93676\n",
      "Epoch 14/20\n",
      "143608/143608 [==============================] - 5s 37us/sample - loss: 0.0871 - auc: 0.9304 - val_loss: 0.0844 - val_auc: 0.9370\n",
      "Epoch 15/20\n",
      "143608/143608 [==============================] - 5s 37us/sample - loss: 0.0870 - auc: 0.9306 - val_loss: 0.0842 - val_auc: 0.9374\n",
      "Epoch 16/20\n",
      "143608/143608 [==============================] - 6s 40us/sample - loss: 0.0869 - auc: 0.9308 - val_loss: 0.0842 - val_auc: 0.9373\n",
      "Epoch 17/20\n",
      "143608/143608 [==============================] - 6s 39us/sample - loss: 0.0868 - auc: 0.9309 - val_loss: 0.0841 - val_auc: 0.9375 - ETA: 2s - loss: 0.0874 -\n",
      "Epoch 18/20\n",
      "143608/143608 [==============================] - 6s 39us/sample - loss: 0.0867 - auc: 0.9311 - val_loss: 0.0841 - val_auc: 0.9382\n",
      "Epoch 19/20\n",
      "143608/143608 [==============================] - 5s 37us/sample - loss: 0.0866 - auc: 0.9312 - val_loss: 0.0839 - val_auc: 0.9376ss: \n",
      "Epoch 20/20\n",
      "143608/143608 [==============================] - 5s 38us/sample - loss: 0.0865 - auc: 0.9313 - val_loss: 0.0838 - val_auc: 0.9384\n"
     ]
    }
   ],
   "source": [
    "hist = model.fit(X_train_lsa, y_train.values, validation_data=(X_val_lsa, y_val.values), epochs=20)"
   ]
  },
  {
   "cell_type": "code",
   "execution_count": 12,
   "metadata": {
    "scrolled": false
   },
   "outputs": [
    {
     "data": {
      "image/png": "[encoded data removed]",
      "text/plain": [
       "<Figure size 432x288 with 1 Axes>"
      ]
     },
     "metadata": {
      "needs_background": "light"
     },
     "output_type": "display_data"
    },
    {
     "data": {
      "image/png": "[encoded data removed]",
      "text/plain": [
       "<Figure size 432x288 with 1 Axes>"
      ]
     },
     "metadata": {
      "needs_background": "light"
     },
     "output_type": "display_data"
    }
   ],
   "source": [
    "# Plot training\n",
    "# Loss\n",
    "plt.plot(hist.history['loss'])\n",
    "plt.plot(hist.history['val_loss'])\n",
    "plt.title('Model loss during training')\n",
    "plt.ylabel('loss')\n",
    "plt.xlabel('epoch')\n",
    "plt.legend(['train', 'validation'], loc='upper left')\n",
    "plt.show()\n",
    "\n",
    "# AUC\n",
    "plt.plot(hist.history['auc'])\n",
    "plt.plot(hist.history['val_auc'])\n",
    "plt.title('Model AUC during training')\n",
    "plt.ylabel('AUC')\n",
    "plt.xlabel('epoch')\n",
    "plt.legend(['train', 'validation'], loc='upper left')\n",
    "plt.show()"
   ]
  },
  {
   "cell_type": "markdown",
   "metadata": {},
   "source": [
    "We can see that it was quite an easy task for the network to train and reach high accuracy. That is because alot of work has already been done in vectorization and dimentionality reduction steps. Let's evaluate model performance on auc metric."
   ]
  },
  {
   "cell_type": "markdown",
   "metadata": {},
   "source": [
    "### Evaluation"
   ]
  },
  {
   "cell_type": "code",
   "execution_count": 13,
   "metadata": {},
   "outputs": [],
   "source": [
    "def eval_auc(y, pred):\n",
    "    auc_list = []\n",
    "    for i in range(6):\n",
    "    \n",
    "        fpr, tpr, _ = sklearn.metrics.roc_curve(y.iloc[:, i].values, pred[:, i])\n",
    "        auc_list.append(sklearn.metrics.auc(fpr, tpr))\n",
    "    \n",
    "    print('AUC for each class:')\n",
    "    print(np.array(auc_list))\n",
    "    print('Mean AUC:', np.mean(auc_list))"
   ]
  },
  {
   "cell_type": "code",
   "execution_count": 14,
   "metadata": {},
   "outputs": [
    {
     "name": "stdout",
     "output_type": "stream",
     "text": [
      "AUC for each class:\n",
      "[0.88118527 0.96923089 0.92667259 0.91198555 0.91344838 0.89185965]\n",
      "Mean AUC: 0.9157303882991544\n"
     ]
    }
   ],
   "source": [
    "pred_val = model.predict(X_val_lsa)\n",
    "eval_auc(y_val, pred_val)"
   ]
  },
  {
   "cell_type": "markdown",
   "metadata": {},
   "source": [
    "Results seem to be great for the first try, almost high enough to reach the goal of 0.95 on AUC metric. The model seems to be suficient and most likelly missing performance can be achieved with hyperparameter tuning."
   ]
  },
  {
   "cell_type": "markdown",
   "metadata": {},
   "source": [
    "Let's check results manually (sanity check) and see what toxic comments has out algorithm found. Added \"_p\" to column names to mark the predictions of model, classses without \"_p\" are the true labels. "
   ]
  },
  {
   "cell_type": "code",
   "execution_count": 15,
   "metadata": {},
   "outputs": [],
   "source": [
    "check_df = pd.DataFrame(np.hstack((pred_val, y_val)), columns=['toxic_p', 'severe_toxic_p', 'obscene_p', 'threat_p', 'insult_p', 'identity_hate_p', 'toxic', 'severe_toxic', 'obscene', 'threat', 'insult', 'identity_hate'])\n",
    "check_df['comments'] = X_val.values"
   ]
  },
  {
   "cell_type": "code",
   "execution_count": 16,
   "metadata": {},
   "outputs": [
    {
     "data": {
      "text/html": [
       "<div>\n",
       "<style scoped>\n",
       "    .dataframe tbody tr th:only-of-type {\n",
       "        vertical-align: middle;\n",
       "    }\n",
       "\n",
       "    .dataframe tbody tr th {\n",
       "        vertical-align: top;\n",
       "    }\n",
       "\n",
       "    .dataframe thead th {\n",
       "        text-align: right;\n",
       "    }\n",
       "</style>\n",
       "<table border=\"1\" class=\"dataframe\">\n",
       "  <thead>\n",
       "    <tr style=\"text-align: right;\">\n",
       "      <th></th>\n",
       "      <th>toxic_p</th>\n",
       "      <th>severe_toxic_p</th>\n",
       "      <th>obscene_p</th>\n",
       "      <th>threat_p</th>\n",
       "      <th>insult_p</th>\n",
       "      <th>identity_hate_p</th>\n",
       "      <th>toxic</th>\n",
       "      <th>severe_toxic</th>\n",
       "      <th>obscene</th>\n",
       "      <th>threat</th>\n",
       "      <th>insult</th>\n",
       "      <th>identity_hate</th>\n",
       "      <th>comments</th>\n",
       "    </tr>\n",
       "  </thead>\n",
       "  <tbody>\n",
       "    <tr>\n",
       "      <th>25</th>\n",
       "      <td>0.908272</td>\n",
       "      <td>0.159997</td>\n",
       "      <td>0.804529</td>\n",
       "      <td>0.052221</td>\n",
       "      <td>0.557649</td>\n",
       "      <td>0.149684</td>\n",
       "      <td>1.0</td>\n",
       "      <td>1.0</td>\n",
       "      <td>1.0</td>\n",
       "      <td>0.0</td>\n",
       "      <td>1.0</td>\n",
       "      <td>0.0</td>\n",
       "      <td>u suck u suck'u sucku suck'u suck u suck'u suc...</td>\n",
       "    </tr>\n",
       "    <tr>\n",
       "      <th>38</th>\n",
       "      <td>0.940123</td>\n",
       "      <td>0.155010</td>\n",
       "      <td>0.872172</td>\n",
       "      <td>0.047489</td>\n",
       "      <td>0.647327</td>\n",
       "      <td>0.138170</td>\n",
       "      <td>1.0</td>\n",
       "      <td>1.0</td>\n",
       "      <td>1.0</td>\n",
       "      <td>0.0</td>\n",
       "      <td>1.0</td>\n",
       "      <td>1.0</td>\n",
       "      <td>gay everyone is emailing me about deep shadow ...</td>\n",
       "    </tr>\n",
       "    <tr>\n",
       "      <th>63</th>\n",
       "      <td>0.996969</td>\n",
       "      <td>0.282089</td>\n",
       "      <td>0.991198</td>\n",
       "      <td>0.047464</td>\n",
       "      <td>0.790172</td>\n",
       "      <td>0.157822</td>\n",
       "      <td>1.0</td>\n",
       "      <td>0.0</td>\n",
       "      <td>1.0</td>\n",
       "      <td>0.0</td>\n",
       "      <td>1.0</td>\n",
       "      <td>0.0</td>\n",
       "      <td>hahahah sucker quit your bitchin for once and ...</td>\n",
       "    </tr>\n",
       "    <tr>\n",
       "      <th>68</th>\n",
       "      <td>1.000000</td>\n",
       "      <td>0.484863</td>\n",
       "      <td>1.000000</td>\n",
       "      <td>0.012493</td>\n",
       "      <td>0.936307</td>\n",
       "      <td>0.103661</td>\n",
       "      <td>1.0</td>\n",
       "      <td>0.0</td>\n",
       "      <td>1.0</td>\n",
       "      <td>0.0</td>\n",
       "      <td>1.0</td>\n",
       "      <td>0.0</td>\n",
       "      <td>faaa q means fuck you to</td>\n",
       "    </tr>\n",
       "    <tr>\n",
       "      <th>76</th>\n",
       "      <td>0.989069</td>\n",
       "      <td>0.346434</td>\n",
       "      <td>0.969021</td>\n",
       "      <td>0.104021</td>\n",
       "      <td>0.758553</td>\n",
       "      <td>0.268880</td>\n",
       "      <td>1.0</td>\n",
       "      <td>1.0</td>\n",
       "      <td>1.0</td>\n",
       "      <td>1.0</td>\n",
       "      <td>1.0</td>\n",
       "      <td>0.0</td>\n",
       "      <td>eat shit fucko suck my asshole then die horrib...</td>\n",
       "    </tr>\n",
       "  </tbody>\n",
       "</table>\n",
       "</div>"
      ],
      "text/plain": [
       "     toxic_p  severe_toxic_p  obscene_p  threat_p  insult_p  identity_hate_p  \\\n",
       "25  0.908272        0.159997   0.804529  0.052221  0.557649         0.149684   \n",
       "38  0.940123        0.155010   0.872172  0.047489  0.647327         0.138170   \n",
       "63  0.996969        0.282089   0.991198  0.047464  0.790172         0.157822   \n",
       "68  1.000000        0.484863   1.000000  0.012493  0.936307         0.103661   \n",
       "76  0.989069        0.346434   0.969021  0.104021  0.758553         0.268880   \n",
       "\n",
       "    toxic  severe_toxic  obscene  threat  insult  identity_hate  \\\n",
       "25    1.0           1.0      1.0     0.0     1.0            0.0   \n",
       "38    1.0           1.0      1.0     0.0     1.0            1.0   \n",
       "63    1.0           0.0      1.0     0.0     1.0            0.0   \n",
       "68    1.0           0.0      1.0     0.0     1.0            0.0   \n",
       "76    1.0           1.0      1.0     1.0     1.0            0.0   \n",
       "\n",
       "                                             comments  \n",
       "25  u suck u suck'u sucku suck'u suck u suck'u suc...  \n",
       "38  gay everyone is emailing me about deep shadow ...  \n",
       "63  hahahah sucker quit your bitchin for once and ...  \n",
       "68                           faaa q means fuck you to  \n",
       "76  eat shit fucko suck my asshole then die horrib...  "
      ]
     },
     "execution_count": 16,
     "metadata": {},
     "output_type": "execute_result"
    }
   ],
   "source": [
    "check_df[check_df['toxic_p'] > 0.5].head()"
   ]
  }
 ],
 "metadata": {
  "kernelspec": {
   "display_name": "Python 3",
   "language": "python",
   "name": "python3"
  },
  "language_info": {
   "codemirror_mode": {
    "name": "ipython",
    "version": 3
   },
   "file_extension": ".py",
   "mimetype": "text/x-python",
   "name": "python",
   "nbconvert_exporter": "python",
   "pygments_lexer": "ipython3",
   "version": "3.7.3"
  }
 },
 "nbformat": 4,
 "nbformat_minor": 2
}
